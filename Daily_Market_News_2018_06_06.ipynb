{
 "cells": [
  {
   "cell_type": "markdown",
   "metadata": {},
   "source": [
    "# 2018-06-06\n",
    "### 被動元件龍頭廠國巨（2327）董事長陳泰銘今（5）日在股東會後受訪時表示，目前訂單依舊大於產能，還是處於配貨狀態，就產業供需來看，缺口將持續到2019年仍舊無解。(source: 經濟日報)\n",
    "### 「綠巨人」中華郵政手握逾6.2兆儲匯資金，近一年斥資逾11億元加碼高殖利率金融股，玉山金、第一金、兆豐金、彰銀等都是中華郵政買進標的，成為金融股支持力量。(source: 經濟日報)\n",
    "### 在6月A股正式加入MSCI指數後，除了先前主動式投資外，未來被動式投資也會進一步增加對陸股的投入。有外資估投資資金將可從今年的200億美元上看到3,800億美元以上。金管會預估A股入摩，預估影響金額242億元短期影響仍小。國內金融帳已連續31季淨流出，累計金額突破十兆元大關，規模相當於國內上市總市值的三分之一，歷經如此龐大規模的資金淨流出後，接著面對A股開啟的資金新通道，「如何防止中國大陸股市磁吸效應」成股市重要議題。(source: 群益投顧)\n",
    "### 5月原本傳出外資淨匯出超過20億美元，但最後央行統計僅10.86億美元，到5月底外資累計淨匯入餘額還有2,066.65億美元，前5月外資共淨匯出13.89億美元，即約新台幣417億元，證期局表示，代表外資雖賣超，但資金並沒有撤離台灣。(source: 群益投顧)"
   ]
  },
  {
   "cell_type": "code",
   "execution_count": null,
   "metadata": {},
   "outputs": [],
   "source": []
  },
  {
   "cell_type": "code",
   "execution_count": null,
   "metadata": {},
   "outputs": [],
   "source": []
  }
 ],
 "metadata": {
  "kernelspec": {
   "display_name": "Python 3",
   "language": "python",
   "name": "python3"
  },
  "language_info": {
   "codemirror_mode": {
    "name": "ipython",
    "version": 3
   },
   "file_extension": ".py",
   "mimetype": "text/x-python",
   "name": "python",
   "nbconvert_exporter": "python",
   "pygments_lexer": "ipython3",
   "version": "3.6.4"
  }
 },
 "nbformat": 4,
 "nbformat_minor": 2
}
