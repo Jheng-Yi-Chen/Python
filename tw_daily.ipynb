{
 "cells": [
  {
   "cell_type": "markdown",
   "metadata": {},
   "source": [
    "## Foxconn says investigating labor conditions at China factory used for Amazon\n",
    "### https://www.reuters.com/article/us-amazon-china-labor/foxconn-says-investigating-labor-conditions-at-china-factory-used-for-amazon-idUSKBN1J610V\n",
    "### JUNE 11, 2018"
   ]
  },
  {
   "cell_type": "code",
   "execution_count": 15,
   "metadata": {},
   "outputs": [
    {
     "data": {
      "text/plain": [
       "[Data(date=datetime.datetime(2018, 6, 1, 0, 0), capacity=21701048, turnover=1877229476, open=86.2, high=87.0, low=86.1, close=86.6, change=0.9, transaction=9366),\n",
       " Data(date=datetime.datetime(2018, 6, 4, 0, 0), capacity=35011435, turnover=3070032201, open=87.5, high=88.0, low=87.4, close=87.8, change=1.2, transaction=12044),\n",
       " Data(date=datetime.datetime(2018, 6, 5, 0, 0), capacity=32115417, turnover=2825673673, open=88.0, high=88.5, low=87.5, close=88.1, change=0.3, transaction=12232),\n",
       " Data(date=datetime.datetime(2018, 6, 6, 0, 0), capacity=46432108, turnover=4121446312, open=88.0, high=89.2, low=88.0, close=89.1, change=1.0, transaction=18661),\n",
       " Data(date=datetime.datetime(2018, 6, 7, 0, 0), capacity=90021834, turnover=8117164569, open=89.9, high=91.2, low=89.3, close=91.2, change=2.1, transaction=36960),\n",
       " Data(date=datetime.datetime(2018, 6, 8, 0, 0), capacity=100334529, turnover=8998037006, open=91.3, high=91.9, low=88.0, close=88.3, change=-2.9, transaction=39523)]"
      ]
     },
     "execution_count": 15,
     "metadata": {},
     "output_type": "execute_result"
    }
   ],
   "source": [
    "# import twstock\n",
    "stock = twstock.Stock('2317')\n",
    "stock.price\n",
    "stock.fetch(2018, 6)"
   ]
  },
  {
   "cell_type": "code",
   "execution_count": null,
   "metadata": {},
   "outputs": [],
   "source": []
  }
 ],
 "metadata": {
  "kernelspec": {
   "display_name": "Python 3",
   "language": "python",
   "name": "python3"
  },
  "language_info": {
   "codemirror_mode": {
    "name": "ipython",
    "version": 3
   },
   "file_extension": ".py",
   "mimetype": "text/x-python",
   "name": "python",
   "nbconvert_exporter": "python",
   "pygments_lexer": "ipython3",
   "version": "3.6.4"
  }
 },
 "nbformat": 4,
 "nbformat_minor": 2
}
