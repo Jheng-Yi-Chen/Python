{
 "cells": [
  {
   "cell_type": "code",
   "execution_count": 106,
   "metadata": {},
   "outputs": [],
   "source": [
    "import tushare as ts\n",
    "import pandas as pd\n",
    "import numpy as np\n",
    "import matplotlib.pyplot as plt\n",
    "%matplotlib inline\n",
    "import plotly\n",
    "import plotly.plotly as py\n",
    "import plotly.graph_objs as go\n",
    "from plotly.offline import download_plotlyjs, init_notebook_mode, plot, iplot\n",
    "from datetime import datetime"
   ]
  },
  {
   "cell_type": "code",
   "execution_count": null,
   "metadata": {},
   "outputs": [],
   "source": [
    "# ts.get_hist_data('600030') # 600030 中信证券\n",
    "# ts.get_today_all() # 一次性获取当前交易所有股票的行情数据"
   ]
  },
  {
   "cell_type": "code",
   "execution_count": 46,
   "metadata": {},
   "outputs": [
    {
     "data": {
      "text/html": [
       "<div>\n",
       "<style scoped>\n",
       "    .dataframe tbody tr th:only-of-type {\n",
       "        vertical-align: middle;\n",
       "    }\n",
       "\n",
       "    .dataframe tbody tr th {\n",
       "        vertical-align: top;\n",
       "    }\n",
       "\n",
       "    .dataframe thead th {\n",
       "        text-align: right;\n",
       "    }\n",
       "</style>\n",
       "<table border=\"1\" class=\"dataframe\">\n",
       "  <thead>\n",
       "    <tr style=\"text-align: right;\">\n",
       "      <th></th>\n",
       "      <th>code</th>\n",
       "      <th>name</th>\n",
       "      <th>change</th>\n",
       "      <th>open</th>\n",
       "      <th>preclose</th>\n",
       "      <th>close</th>\n",
       "      <th>high</th>\n",
       "      <th>low</th>\n",
       "      <th>volume</th>\n",
       "      <th>amount</th>\n",
       "    </tr>\n",
       "  </thead>\n",
       "  <tbody>\n",
       "    <tr>\n",
       "      <th>0</th>\n",
       "      <td>000001</td>\n",
       "      <td>上证指数</td>\n",
       "      <td>0.25</td>\n",
       "      <td>3083.4265</td>\n",
       "      <td>3075.1372</td>\n",
       "      <td>3082.7866</td>\n",
       "      <td>3098.4020</td>\n",
       "      <td>3076.9936</td>\n",
       "      <td>66261872</td>\n",
       "      <td>909.3592</td>\n",
       "    </tr>\n",
       "    <tr>\n",
       "      <th>10</th>\n",
       "      <td>000300</td>\n",
       "      <td>沪深300</td>\n",
       "      <td>0.67</td>\n",
       "      <td>3785.1869</td>\n",
       "      <td>3770.5891</td>\n",
       "      <td>3795.9521</td>\n",
       "      <td>3811.5613</td>\n",
       "      <td>3776.6185</td>\n",
       "      <td>44715342</td>\n",
       "      <td>692.8426</td>\n",
       "    </tr>\n",
       "    <tr>\n",
       "      <th>17</th>\n",
       "      <td>399006</td>\n",
       "      <td>创业板指</td>\n",
       "      <td>-0.25</td>\n",
       "      <td>1709.5690</td>\n",
       "      <td>1709.5480</td>\n",
       "      <td>1705.2090</td>\n",
       "      <td>1715.4150</td>\n",
       "      <td>1690.9910</td>\n",
       "      <td>781036523</td>\n",
       "      <td>124.5614</td>\n",
       "    </tr>\n",
       "    <tr>\n",
       "      <th>21</th>\n",
       "      <td>399106</td>\n",
       "      <td>深证综指</td>\n",
       "      <td>0.06</td>\n",
       "      <td>1749.6190</td>\n",
       "      <td>1746.3310</td>\n",
       "      <td>1747.3810</td>\n",
       "      <td>1753.7920</td>\n",
       "      <td>1738.2630</td>\n",
       "      <td>8884462677</td>\n",
       "      <td>1188.1118</td>\n",
       "    </tr>\n",
       "  </tbody>\n",
       "</table>\n",
       "</div>"
      ],
      "text/plain": [
       "      code   name  change       open   preclose      close       high  \\\n",
       "0   000001   上证指数    0.25  3083.4265  3075.1372  3082.7866  3098.4020   \n",
       "10  000300  沪深300    0.67  3785.1869  3770.5891  3795.9521  3811.5613   \n",
       "17  399006   创业板指   -0.25  1709.5690  1709.5480  1705.2090  1715.4150   \n",
       "21  399106   深证综指    0.06  1749.6190  1746.3310  1747.3810  1753.7920   \n",
       "\n",
       "          low      volume     amount  \n",
       "0   3076.9936    66261872   909.3592  \n",
       "10  3776.6185    44715342   692.8426  \n",
       "17  1690.9910   781036523   124.5614  \n",
       "21  1738.2630  8884462677  1188.1118  "
      ]
     },
     "execution_count": 46,
     "metadata": {},
     "output_type": "execute_result"
    }
   ],
   "source": [
    "df = ts.get_index() # 获取大盘指数实时行情列表\n",
    "df = pd.DataFrame(df)\n",
    "select = ['上证指数', '沪深300', '创业板指', '深证综指']\n",
    "df = df.loc[df['name'].isin(select)]\n",
    "df"
   ]
  },
  {
   "cell_type": "code",
   "execution_count": 107,
   "metadata": {},
   "outputs": [
    {
     "data": {
      "text/plain": [
       "'file://C:\\\\Users\\\\A98172\\\\Desktop\\\\temp-plot.html'"
      ]
     },
     "execution_count": 107,
     "metadata": {},
     "output_type": "execute_result"
    }
   ],
   "source": [
    "# 上证指数\n",
    "#ts.get_realtime_quotes('sh')\n",
    "# 上证指数，深圳成指，沪深300指数，上证50，中小板，创业板\n",
    "# ts.get_realtime_quotes(['sh', 'sz', 'hs300', 'sz50', 'zxb', 'cyb'])\n",
    "# 或者混搭\n",
    "# ts.get_realtime_quotes(['sh','600848'])\n",
    "\n",
    "# sh = ts.get_h_data('000001', index = True) # 000001 = sh\n",
    "# sz = ts.get_h_data('399106', index = True) # 399106 = 深圳综合指数\n",
    "# cyb = sz = ts.get_h_data('399006', index = True) # 399006 = cyb\n",
    "\n",
    "# sh.close.head(60).plot(linewidth = 3, figsize =(15, 7))\n",
    "# sz.close.plot(figsize =(15, 7))\n",
    "# cyb.close.plot(figsize =(15, 7))\n",
    "# plot(sh.close, sz.close)\n",
    "\n",
    "\n",
    "plot([go.Scatter(x = sh.index, y = sh.close)])\n",
    "\n",
    "\n"
   ]
  }
 ],
 "metadata": {
  "kernelspec": {
   "display_name": "Python 3",
   "language": "python",
   "name": "python3"
  },
  "language_info": {
   "codemirror_mode": {
    "name": "ipython",
    "version": 3
   },
   "file_extension": ".py",
   "mimetype": "text/x-python",
   "name": "python",
   "nbconvert_exporter": "python",
   "pygments_lexer": "ipython3",
   "version": "3.6.4"
  }
 },
 "nbformat": 4,
 "nbformat_minor": 2
}
